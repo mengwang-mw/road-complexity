{
 "cells": [
  {
   "cell_type": "code",
   "execution_count": 1,
   "metadata": {},
   "outputs": [],
   "source": [
    "import pandas as pd\n",
    "import numpy as np\n",
    "import matplotlib.pyplot as plt"
   ]
  },
  {
   "cell_type": "markdown",
   "metadata": {},
   "source": [
    "### Oneformer + driving + semantic VS + complexity-infused"
   ]
  },
  {
   "cell_type": "code",
   "execution_count": 20,
   "metadata": {},
   "outputs": [],
   "source": [
    "test_no_complexity_data = pd.read_csv('../../0_data/2_results_pred/y_test_semantic_driving_oneformer_32_continuous.csv')\n",
    "pred_no_complexity_data = pd.read_csv('../../0_data/2_results_pred/y_pred_semantic_driving_oneformer_32_continuous.csv')\n",
    "test_complexity_data = pd.read_csv('../../0_data/2_results_pred/y_test_complexity_semantic_driving_oneformer_32_continuous.csv')\n",
    "pred_complexity_data = pd.read_csv('../../0_data/2_results_pred/y_pred_complexity_semantic_driving_oneformer_32_continuous.csv')"
   ]
  },
  {
   "cell_type": "code",
   "execution_count": 21,
   "metadata": {},
   "outputs": [],
   "source": [
    "def return_confusion_matrix(test_no_complexity_data, pred_no_complexity_data, test_complexity_data, pred_complexity_data):\n",
    "    no_complexity_data = pd.concat([test_no_complexity_data, pred_no_complexity_data], axis=1)\n",
    "    complexity_data = pd.concat([test_complexity_data, pred_complexity_data], axis=1)\n",
    "    no_complexity_data['pred'] = no_complexity_data['crash_likelihood'] == no_complexity_data['crash_pred']\n",
    "    complexity_data['pred'] = complexity_data['crash_likelihood'] == complexity_data['crash_pred']\n",
    "    final_data = pd.concat([no_complexity_data['pred'], complexity_data['pred']], axis=1)\n",
    "    final_data.columns = ['pred1', 'pred2']\n",
    "    # create a confusion matrix\n",
    "    confusion_matrix = np.zeros((2, 2))\n",
    "    confusion_matrix[0, 0] = final_data[(final_data['pred1'] == True) & (final_data['pred2'] == True)].shape[0]\n",
    "    confusion_matrix[0, 1] = final_data[(final_data['pred1'] == True) & (final_data['pred2'] == False)].shape[0]\n",
    "    confusion_matrix[1, 0] = final_data[(final_data['pred1'] == False) & (final_data['pred2'] == True)].shape[0]\n",
    "    confusion_matrix[1, 1] = final_data[(final_data['pred1'] == False) & (final_data['pred2'] == False)].shape[0]\n",
    "\n",
    "    return confusion_matrix"
   ]
  },
  {
   "cell_type": "code",
   "execution_count": 22,
   "metadata": {},
   "outputs": [
    {
     "data": {
      "text/plain": [
       "array([[2169.,   61.],\n",
       "       [ 135.,  182.]])"
      ]
     },
     "execution_count": 22,
     "metadata": {},
     "output_type": "execute_result"
    }
   ],
   "source": [
    "# create a confusion matrix\n",
    "con = return_confusion_matrix(test_no_complexity_data, pred_no_complexity_data, test_complexity_data, pred_complexity_data)\n",
    "con"
   ]
  },
  {
   "cell_type": "code",
   "execution_count": 23,
   "metadata": {},
   "outputs": [
    {
     "name": "stdout",
     "output_type": "stream",
     "text": [
      "27.18877551020408\n",
      "1.8452687156056413e-07\n"
     ]
    }
   ],
   "source": [
    "from scipy import stats\n",
    "statistics = (abs(con[0, 1] - con[1, 0]) - 1)**2 / (con[0, 1] + con[1, 0])\n",
    "# compare it with chi-square distribution with df = 1\n",
    "print(statistics)\n",
    "# calculate p-value\n",
    "p_value = 1 - stats.chi2.cdf(statistics, 1)\n",
    "print(p_value)\n",
    "# p-value is 0.05\n",
    "# if statistics > 3.841, then reject the null hypothesis\n",
    "# if statistics < 3.841, then accept the null hypothesis"
   ]
  },
  {
   "cell_type": "markdown",
   "metadata": {},
   "source": [
    "### Oneformer + driving VS + complexity-infused"
   ]
  },
  {
   "cell_type": "code",
   "execution_count": 24,
   "metadata": {},
   "outputs": [
    {
     "data": {
      "text/plain": [
       "array([[1850.,  281.],\n",
       "       [ 131.,  285.]])"
      ]
     },
     "execution_count": 24,
     "metadata": {},
     "output_type": "execute_result"
    }
   ],
   "source": [
    "test_no_complexity_data = pd.read_csv('../../0_data/2_results_pred/y_test_driving_oneformer_32_continuous.csv')\n",
    "pred_no_complexity_data = pd.read_csv('../../0_data/2_results_pred/y_pred_driving_oneformer_32_continuous.csv')\n",
    "test_complexity_data = pd.read_csv('../../0_data/2_results_pred/y_test_oneformer_driving_complexity_oneformer_32_continuous.csv')\n",
    "pred_complexity_data = pd.read_csv('../../0_data/2_results_pred/y_pred_oneformer_driving_complexity_oneformer_32_continuous.csv')\n",
    "con = return_confusion_matrix(test_no_complexity_data, pred_no_complexity_data, test_complexity_data, pred_complexity_data)\n",
    "con"
   ]
  },
  {
   "cell_type": "code",
   "execution_count": 25,
   "metadata": {},
   "outputs": [
    {
     "name": "stdout",
     "output_type": "stream",
     "text": [
      "53.88592233009709\n",
      "2.1249668691325496e-13\n"
     ]
    }
   ],
   "source": [
    "statistics = (abs(con[0, 1] - con[1, 0]) - 1)**2 / (con[0, 1] + con[1, 0])\n",
    "# compare it with chi-square distribution with df = 1\n",
    "print(statistics)\n",
    "# calculate p-value\n",
    "p_value = 1 - stats.chi2.cdf(statistics, 1)\n",
    "print(p_value)"
   ]
  },
  {
   "cell_type": "markdown",
   "metadata": {},
   "source": [
    "### Oneformer VS + complexity-infused"
   ]
  },
  {
   "cell_type": "code",
   "execution_count": 26,
   "metadata": {},
   "outputs": [
    {
     "data": {
      "text/plain": [
       "array([[1715.,  154.],\n",
       "       [ 266.,  412.]])"
      ]
     },
     "execution_count": 26,
     "metadata": {},
     "output_type": "execute_result"
    }
   ],
   "source": [
    "test_no_complexity_data = pd.read_csv('../../0_data/2_results_pred/y_test_oneformer_32_continuous.csv')\n",
    "pred_no_complexity_data = pd.read_csv('../../0_data/2_results_pred/y_pred_oneformer_32_continuous.csv')\n",
    "test_complexity_data = pd.read_csv('../../0_data/2_results_pred/y_test_complexity_oneformer_32_continuous.csv')\n",
    "pred_complexity_data = pd.read_csv('../../0_data/2_results_pred/y_pred_complexity_oneformer_32_continuous.csv')\n",
    "con = return_confusion_matrix(test_no_complexity_data, pred_no_complexity_data, test_complexity_data, pred_complexity_data)\n",
    "con"
   ]
  },
  {
   "cell_type": "code",
   "execution_count": 27,
   "metadata": {},
   "outputs": [
    {
     "name": "stdout",
     "output_type": "stream",
     "text": [
      "29.335714285714285\n",
      "6.086355153200884e-08\n"
     ]
    }
   ],
   "source": [
    "statistics = (abs(con[0, 1] - con[1, 0]) - 1)**2 / (con[0, 1] + con[1, 0])\n",
    "# compare it with chi-square distribution with df = 1\n",
    "print(statistics)\n",
    "# calculate p-value\n",
    "p_value = 1 - stats.chi2.cdf(statistics, 1)\n",
    "print(p_value)"
   ]
  },
  {
   "cell_type": "code",
   "execution_count": null,
   "metadata": {},
   "outputs": [],
   "source": []
  }
 ],
 "metadata": {
  "kernelspec": {
   "display_name": "base",
   "language": "python",
   "name": "python3"
  },
  "language_info": {
   "codemirror_mode": {
    "name": "ipython",
    "version": 3
   },
   "file_extension": ".py",
   "mimetype": "text/x-python",
   "name": "python",
   "nbconvert_exporter": "python",
   "pygments_lexer": "ipython3",
   "version": "3.11.5"
  }
 },
 "nbformat": 4,
 "nbformat_minor": 2
}
